{
 "cells": [
  {
   "cell_type": "code",
   "execution_count": 1,
   "metadata": {},
   "outputs": [],
   "source": [
    "import numpy as np\n",
    "import pandas as pd\n",
    "import re\n",
    "import js2xml\n",
    "\n",
    "from bs4 import BeautifulSoup\n",
    "import requests"
   ]
  },
  {
   "cell_type": "code",
   "execution_count": 2,
   "metadata": {},
   "outputs": [],
   "source": [
    "base_url = 'https://boardgamegeek.com/'\n",
    "start_url = 'https://boardgamegeek.com/browse/boardgame/page/1'"
   ]
  },
  {
   "cell_type": "code",
   "execution_count": 3,
   "metadata": {},
   "outputs": [],
   "source": [
    "test = requests.get(start_url).text"
   ]
  },
  {
   "cell_type": "code",
   "execution_count": 4,
   "metadata": {},
   "outputs": [],
   "source": [
    "soup = BeautifulSoup(test,'lxml')"
   ]
  },
  {
   "cell_type": "code",
   "execution_count": 5,
   "metadata": {},
   "outputs": [],
   "source": [
    "game_l = soup.find_all('td',{'class':'collection_objectname'})"
   ]
  },
  {
   "cell_type": "code",
   "execution_count": null,
   "metadata": {},
   "outputs": [],
   "source": [
    "page_n = 1\n",
    "games = []\n",
    "start_url = 'https://boardgamegeek.com/browse/boardgame/page/'\n",
    "while True:\n",
    "    game_names = BeautifulSoup(requests.get(start_url+str(page_n)).text,'lxml')\n",
    "    game_list = soup.find_all('td',{'class':'collection_objectname'})\n",
    "    if not game_list:\n",
    "        print('No more results: Exiting...') #check to see if results exits, other wise break\n",
    "        break\n",
    "    else:\n",
    "        print('Getting page:{}'.format(page_n))\n",
    "        \n",
    "        \n",
    "        for game in game_list:\n",
    "            game_page = requests.get(base_url+game.select('a')[0]['href']+'/stats').text\n",
    "    "
   ]
  },
  {
   "cell_type": "code",
   "execution_count": 19,
   "metadata": {},
   "outputs": [],
   "source": [
    "t_game= BeautifulSoup(requests.get('https://boardgamegeek.com/boardgame/174430/gloomhaven/stats').text,'html.parser')"
   ]
  },
  {
   "cell_type": "code",
   "execution_count": 126,
   "metadata": {},
   "outputs": [
    {
     "data": {
      "text/plain": [
       "'/boardgame/174430/gloomhaven'"
      ]
     },
     "execution_count": 126,
     "metadata": {},
     "output_type": "execute_result"
    }
   ],
   "source": [
    "game_l[7].select('a')[0]['href']"
   ]
  },
  {
   "cell_type": "code",
   "execution_count": 383,
   "metadata": {},
   "outputs": [],
   "source": [
    "title = t_game.title.text.split(' | ')[0]\n",
    "desc_tag = t_game.find_all('meta',{'name':'description'})[0]\n",
    "desc_str = str(desc_tag)[15:-29].replace('&amp;ldquo;','\"').replace('&amp;rdquo;','\"').replace(\\n)"
   ]
  },
  {
   "cell_type": "code",
   "execution_count": 384,
   "metadata": {},
   "outputs": [
    {
     "data": {
      "text/plain": [
       "('Star Wars: Rebellion',\n",
       " \"From the publisher:\\n\\nStar Wars: Rebellion is a board game of epic conflict between the Galactic Empire and Rebel Alliance for two to four players.\\n\\nExperience the Galactic Civil War like never before. In Rebellion, you control the entire Galactic Empire or the fledgling Rebel Alliance. You must command starships, account for troop movements, and rally systems to your cause. Given the differences between the Empire and Rebel Alliance, each side has different win conditions, and you'll need to adjust your play style depending on who you represent:\\n\\n     As the Imperial player, you can command legions of Stormtroopers, swarms of TIEs, Star Destroyers, and even the Death Star. You rule the galaxy by fear, relying on the power of your massive military to enforce your will. To win the game, you need to snuff out the budding Rebel Alliance by finding its base and obliterating it. Along the way, you can subjugate worlds or even destroy them.\\n     As the Rebel player, you can command dozens of troopers, T-47 airspeeders, Corellian corvettes, and fighter squadrons. However, these forces are no match for the Imperial military. In terms of raw strength, you'll find yourself clearly overmatched from the very outset, so you'll need to rally the planets to join your cause and execute targeted military strikes to sabotage Imperial build yards and steal valuable intelligence. To win the Galactic Civil War, you'll need to sway the galaxy's citizens to your cause. If you survive long enough and strengthen your reputation, you inspire the galaxy to a full-scale revolt, and you win.\\n\\n\\n\\n\\nFeaturing more than 150 plastic miniatures and two game boards that account for thirty-two of the Star Wars galaxy's most notable systems, Rebellion features a scope that is as large and sweeping as any Star Wars game before it.\\n\\nYet for all its grandiosity, Rebellion remains intensely personal, cinematic, and heroic. As much as your success depends upon the strength of your starships, vehicles, and troops, it depends upon the individual efforts of such notable characters as Leia Organa, Mon Mothma, Grand Moff Tarkin, and Emperor Palpatine. As civil war spreads throughout the galaxy, these leaders are invaluable to your efforts, and the secret missions they attempt will evoke many of the most inspiring moments from the classic trilogy. You might send Luke Skywalker to receive Jedi training on Dagobah or have Darth Vader spring a trap that freezes Han Solo in car\")"
      ]
     },
     "execution_count": 384,
     "metadata": {},
     "output_type": "execute_result"
    }
   ],
   "source": [
    "title,desc_str"
   ]
  },
  {
   "cell_type": "code",
   "execution_count": 307,
   "metadata": {},
   "outputs": [],
   "source": [
    "t_game = BeautifulSoup(requests.get(base_url+game_l[7].select('a')[0]['href']+'/stats').text,'html.parser')\n",
    "this =t_game.find(\"script\", text=re.compile(\"GEEK.geekitemPreload\\s+=\"))\n",
    "that = str(this).split(\"=\")[9].strip()\n",
    "that.split(',')\n",
    "third = that[::-1]\n",
    "new_third = ''\n",
    "for i in range(len(third)):\n",
    "    if third[i]== '}':\n",
    "        new_third = third[i:]\n",
    "        break\n",
    "fourth_third = new_third[::-1]\n"
   ]
  },
  {
   "cell_type": "code",
   "execution_count": 308,
   "metadata": {},
   "outputs": [
    {
     "data": {
      "text/plain": [
       "'\"boardgamedesigner\":[{\"name\":\"Corey Konieczka\",\"objecttype\":\"person\",\"objectid\":\"6651\",\"primarylink\":0,\"itemstate\":\"approved\",\"href\":\"\\\\/boardgamedesigner\\\\/6651\\\\/corey-konieczka\"}],\"boardgameartist\":[{\"name\":\"Matt Allsopp\",\"objecttype\":\"person\",\"objectid\":\"34719\",\"primarylink\":0,\"itemstate\":\"approved\",\"href\":\"\\\\/boardgameartist\\\\/34719\\\\/matt-allsopp\"},{\"name\":\"David Ardila\",\"objecttype\":\"person\",\"objectid\":\"32122\",\"primarylink\":0,\"itemstate\":\"approved\",\"href\":\"\\\\/boardgameartist\\\\/32122\\\\/david-ardila\"},{\"name\":\"Balaskas\",\"objecttype\":\"person\",\"objectid\":\"20067\",\"primarylink\":0,\"itemstate\":\"approved\",\"href\":\"\\\\/boardgameartist\\\\/20067\\\\/balaskas\"},{\"name\":\"Tiziano Baracchi\",\"objecttype\":\"person\",\"objectid\":\"19822\",\"primarylink\":0,\"itemstate\":\"approved\",\"href\":\"\\\\/boardgameartist\\\\/19822\\\\/tiziano-baracchi\"},{\"name\":\"Ryan Barger\",\"objecttype\":\"person\",\"objectid\":\"12438\",\"primarylink\":0,\"itemstate\":\"approved\",\"href\":\"\\\\/boardgameartist\\\\/12438\\\\/ryan-barger\"},{\"name\":\"Jorge Barrero\",\"objecttype\":\"person\",\"objectid\":\"81542\",\"primarylink\":0,\"itemstate\":\"approved\",\"href\":\"\\\\/boardgameartist\\\\/81542\\\\/jorge-barrero\"}],\"boardgamepublisher\":[{\"name\":\"Fantasy Flight Games\",\"objecttype\":\"company\",\"objectid\":\"17\",\"primarylink\":1,\"itemstate\":\"approved\",\"href\":\"\\\\/boardgamepublisher\\\\/17\\\\/fantasy-flight-games\"},{\"name\":\"ADC Blackfire Entertainment\",\"objecttype\":\"company\",\"objectid\":\"23043\",\"primarylink\":0,\"itemstate\":\"approved\",\"href\":\"\\\\/boardgamepublisher\\\\/23043\\\\/adc-blackfire-entertainment\"},{\"name\":\"Asterion Press\",\"objecttype\":\"company\",\"objectid\":\"15889\",\"primarylink\":0,\"itemstate\":\"approved\",\"href\":\"\\\\/boardgamepublisher\\\\/15889\\\\/asterion-press\"},{\"name\":\"Delta Vision Publishing\",\"objecttype\":\"company\",\"objectid\":\"6194\",\"primarylink\":0,\"itemstate\":\"approved\",\"href\":\"\\\\/boardgamepublisher\\\\/6194\\\\/delta-vision-publishing\"},{\"name\":\"Edge Entertainment\",\"objecttype\":\"company\",\"objectid\":\"2973\",\"primarylink\":0,\"itemstate\":\"approved\",\"href\":\"\\\\/boardgamepublisher\\\\/2973\\\\/edge-entertainment\"},{\"name\":\"Galakta\",\"objecttype\":\"company\",\"objectid\":\"4617\",\"primarylink\":0,\"itemstate\":\"approved\",\"href\":\"\\\\/boardgamepublisher\\\\/4617\\\\/galakta\"}],\"boardgamehonor\":[{\"name\":\"2016 Best Science Fiction or Fantasy Board Game Nominee\",\"objecttype\":\"family\",\"objectid\":\"44998\",\"primarylink\":0,\"itemstate\":\"approved\",\"href\":\"\\\\/boardgamehonor\\\\/44998\\\\/2016-best-science-fiction-or-fantasy-board-game-no\"},{\"name\":\"2016 Cardboard Republic Immersionist Laurel Nominee\",\"objecttype\":\"family\",\"objectid\":\"46035\",\"primarylink\":0,\"itemstate\":\"approved\",\"href\":\"\\\\/boardgamehonor\\\\/46035\\\\/2016-cardboard-republic-immersionist-laurel-nomine\"},{\"name\":\"2016 Golden Geek Best 2-Player Board Game Nominee\",\"objecttype\":\"family\",\"objectid\":\"40225\",\"primarylink\":0,\"itemstate\":\"approved\",\"href\":\"\\\\/boardgamehonor\\\\/40225\\\\/2016-golden-geek-best-2-player-board-game-nominee\"},{\"name\":\"2016 Golden Geek Best 2-Player Board Game Winner\",\"objecttype\":\"family\",\"objectid\":\"40875\",\"primarylink\":0,\"itemstate\":\"approved\",\"href\":\"\\\\/boardgamehonor\\\\/40875\\\\/2016-golden-geek-best-2-player-board-game-winner\"},{\"name\":\"2016 Golden Geek Best Board Game Artwork & Presentation Nominee\",\"objecttype\":\"family\",\"objectid\":\"40226\",\"primarylink\":0,\"itemstate\":\"approved\",\"href\":\"\\\\/boardgamehonor\\\\/40226\\\\/2016-golden-geek-best-board-game-artwork-presentat\"},{\"name\":\"2016 Golden Geek Best Strategy Board Game Nominee\",\"objecttype\":\"family\",\"objectid\":\"40555\",\"primarylink\":0,\"itemstate\":\"approved\",\"href\":\"\\\\/boardgamehonor\\\\/40555\\\\/2016-golden-geek-best-strategy-board-game-nominee\"}],\"boardgamecategory\":[{\"name\":\"Fighting\",\"objecttype\":\"property\",\"objectid\":\"1046\",\"primarylink\":0,\"itemstate\":\"approved\",\"href\":\"\\\\/boardgamecategory\\\\/1046\\\\/fighting\"},{\"name\":\"Miniatures\",\"objecttype\":\"property\",\"objectid\":\"1047\",\"primarylink\":0,\"itemstate\":\"approved\",\"href\":\"\\\\/boardgamecategory\\\\/1047\\\\/miniatures\"},{\"name\":\"Movies \\\\/ TV \\\\/ Radio theme\",\"objecttype\":\"property\",\"objectid\":\"1064\",\"primarylink\":0,\"itemstate\":\"approved\",\"href\":\"\\\\/boardgamecategory\\\\/1064\\\\/movies-tv-radio-theme\"},{\"name\":\"Science Fiction\",\"objecttype\":\"property\",\"objectid\":\"1016\",\"primarylink\":0,\"itemstate\":\"approved\",\"href\":\"\\\\/boardgamecategory\\\\/1016\\\\/science-fiction\"},{\"name\":\"Wargame\",\"objecttype\":\"property\",\"objectid\":\"1019\",\"primarylink\":0,\"itemstate\":\"approved\",\"href\":\"\\\\/boardgamecategory\\\\/1019\\\\/wargame\"}],\"boardgamemechanic\":[{\"name\":\"Area Majority \\\\/ Influence\",\"objecttype\":\"property\",\"objectid\":\"2080\",\"primarylink\":0,\"itemstate\":\"approved\",\"href\":\"\\\\/boardgamemechanic\\\\/2080\\\\/area-majority-influence\"},{\"name\":\"Area Movement\",\"objecttype\":\"property\",\"objectid\":\"2046\",\"primarylink\":0,\"itemstate\":\"approved\",\"href\":\"\\\\/boardgamemechanic\\\\/2046\\\\/area-movement\"},{\"name\":\"Dice Rolling\",\"objecttype\":\"property\",\"objectid\":\"2072\",\"primarylink\":0,\"itemstate\":\"approved\",\"href\":\"\\\\/boardgamemechanic\\\\/2072\\\\/dice-rolling\"},{\"name\":\"Hand Management\",\"objecttype\":\"property\",\"objectid\":\"2040\",\"primarylink\":0,\"itemstate\":\"approved\",\"href\":\"\\\\/boardgamemechanic\\\\/2040\\\\/hand-management\"},{\"name\":\"Team-Based Game\",\"objecttype\":\"property\",\"objectid\":\"2019\",\"primarylink\":0,\"itemstate\":\"approved\",\"href\":\"\\\\/boardgamemechanic\\\\/2019\\\\/team-based-game\"},{\"name\":\"Variable Player Powers\",\"objecttype\":\"property\",\"objectid\":\"2015\",\"primarylink\":0,\"itemstate\":\"approved\",\"href\":\"\\\\/boardgamemechanic\\\\/2015\\\\/variable-player-powers\"}],\"boardgameexpansion\":[{\"name\":\"Star Wars: Rebellion \\\\u2013 Rise of the Empire\",\"objecttype\":\"thing\",\"objectid\":\"226840\",\"primarylink\":0,\"itemstate\":\"approved\",\"href\":\"\\\\/boardgame\\\\/226840\\\\/star-wars-rebellion-rise-empire\"}],\"boardgameversion\":[{\"name\":\"Czech edition\",\"objecttype\":\"version\",\"objectid\":\"341516\",\"primarylink\":0,\"itemstate\":\"approved\",\"href\":\"\\\\/boardgameversion\\\\/341516\\\\/czech-edition\"},{\"name\":\"English edition\",\"objecttype\":\"version\",\"objectid\":\"290665\",\"primarylink\":0,\"itemstate\":\"approved\",\"href\":\"\\\\/boardgameversion\\\\/290665\\\\/english-edition\"},{\"name\":\"French edition\",\"objecttype\":\"version\",\"objectid\":\"299332\",\"primarylink\":0,\"itemstate\":\"approved\",\"href\":\"\\\\/boardgameversion\\\\/299332\\\\/french-edition\"},{\"name\":\"German edition\",\"objecttype\":\"version\",\"objectid\":\"296482\",\"primarylink\":0,\"itemstate\":\"approved\",\"href\":\"\\\\/boardgameversion\\\\/296482\\\\/german-edition\"},{\"name\":\"Hungarian edition\",\"objecttype\":\"version\",\"objectid\":\"348616\",\"primarylink\":0,\"itemstate\":\"approved\",\"href\":\"\\\\/boardgameversion\\\\/348616\\\\/hungarian-edition\"},{\"name\":\"Italian edition\",\"objecttype\":\"version\",\"objectid\":\"307544\",\"primarylink\":0,\"itemstate\":\"approved\",\"href\":\"\\\\/boardgameversion\\\\/307544\\\\/italian-edition\"}],\"expandsboardgame\":[],\"boardgameintegration\":[],\"contains\":[],\"containedin\":[],\"reimplementation\":[],\"reimplements\":[],\"boardgamefamily\":[{\"name\":\"Components: Miniatures\",\"objecttype\":\"family\",\"objectid\":\"25158\",\"primarylink\":0,\"itemstate\":\"approved\",\"href\":\"\\\\/boardgamefamily\\\\/25158\\\\/components-miniatures\"},{\"name\":\"Star Wars\",\"objecttype\":\"family\",\"objectid\":\"5602\",\"primarylink\":0,\"itemstate\":\"approved\",\"href\":\"\\\\/boardgamefamily\\\\/5602\\\\/star-wars\"}],\"videogamebg\":[{\"name\":\"Star Wars: Rebellion\",\"objecttype\":\"thing\",\"objectid\":\"77808\",\"primarylink\":0,\"itemstate\":\"approved\",\"href\":\"\\\\/videogame\\\\/77808\\\\/star-wars-rebellion\"}],\"boardgamesubdomain\":[{\"name\":\"Strategy Games\",\"objecttype\":\"family\",\"objectid\":\"5497\",\"primarylink\":0,\"itemstate\":\"approved\",\"href\":\"\\\\/boardgamesubdomain\\\\/5497\\\\/strategy-games\"},{\"name\":\"Thematic Games\",\"objecttype\":\"family\",\"objectid\":\"5496\",\"primarylink\":0,\"itemstate\":\"approved\",\"href\":\"\\\\/boardgamesubdomain\\\\/5496\\\\/thematic-games\"}],\"boardgameaccessory\":[{\"name\":\"Star Wars: Rebellion \\\\u2013 Foam Tray Set\",\"objecttype\":\"thing\",\"objectid\":\"287906\",\"primarylink\":0,\"itemstate\":\"approved\",\"href\":\"\\\\/boardgameaccessory\\\\/287906\\\\/star-wars-rebellion-foam-tray-set\"},{\"name\":\"Star Wars: Rebellion \\\\u2013 Folded Space Insert\",\"objecttype\":\"thing\",\"objectid\":\"267463\",\"primarylink\":0,\"itemstate\":\"approved\",\"href\":\"\\\\/boardgameaccessory\\\\/267463\\\\/star-wars-rebellion-folded-space-insert\"},{\"name\":\"Star Wars: Rebellion \\\\u2013 Insert Here Insert\",\"objecttype\":\"thing\",\"objectid\":\"295527\",\"primarylink\":0,\"itemstate\":\"approved\",\"href\":\"\\\\/boardgameaccessory\\\\/295527\\\\/star-wars-rebellion-insert-here-insert\"},{\"name\":\"Star Wars: Rebellion \\\\u2013 Quick-Start Insert\",\"objecttype\":\"thing\",\"objectid\":\"201256\",\"primarylink\":0,\"itemstate\":\"approved\",\"href\":\"\\\\/boardgameaccessory\\\\/201256\\\\/star-wars-rebellion-quick-start-insert\"},{\"name\":\"Star Wars: Rebellion \\\\u2013 Zen Bins Storage\",\"objecttype\":\"thing\",\"objectid\":\"220585\",\"primarylink\":0,\"itemstate\":\"approved\",\"href\":\"\\\\/boardgameaccessory\\\\/220585\\\\/star-wars-rebellion-zen-bins-storage\"}]},\"linkcounts\"'"
      ]
     },
     "execution_count": 308,
     "metadata": {},
     "output_type": "execute_result"
    }
   ],
   "source": [
    "fourth_third.split(':{')[8]"
   ]
  },
  {
   "cell_type": "code",
   "execution_count": 374,
   "metadata": {},
   "outputs": [],
   "source": [
    "n_test = fourth_third.split(':{')[3].split(',')[:-1]"
   ]
  },
  {
   "cell_type": "code",
   "execution_count": 375,
   "metadata": {},
   "outputs": [
    {
     "data": {
      "text/plain": [
       "['\"best\":[{\"min\":2',\n",
       " '\"max\":2}]',\n",
       " '\"recommended\":[{\"min\":2',\n",
       " '\"max\":2}]',\n",
       " '\"totalvotes\":\"369\"}',\n",
       " '\"playerage\":\"12+\"',\n",
       " '\"languagedependence\":\"Extensive use of text - massive conversion needed to be playable\"',\n",
       " '\"subdomain\":\"\"']"
      ]
     },
     "execution_count": 375,
     "metadata": {},
     "output_type": "execute_result"
    }
   ],
   "source": [
    "n_test"
   ]
  },
  {
   "cell_type": "code",
   "execution_count": 311,
   "metadata": {},
   "outputs": [],
   "source": [
    "n_test\n",
    "test_d = {i.split(':')[0]:' '.join(i.split(':')[1:]) for i in n_test if len(i.split(':'))> 1 }\n",
    "\n",
    "    "
   ]
  },
  {
   "cell_type": "code",
   "execution_count": 312,
   "metadata": {},
   "outputs": [
    {
     "data": {
      "text/plain": [
       "{'\"boardgamedesigner\"': '[{\"name\" \"Corey Konieczka\"',\n",
       " '\"objecttype\"': '\"thing\"',\n",
       " '\"objectid\"': '\"220585\"',\n",
       " '\"primarylink\"': '0',\n",
       " '\"itemstate\"': '\"approved\"',\n",
       " '\"href\"': '\"\\\\/boardgameaccessory\\\\/220585\\\\/star-wars-rebellion-zen-bins-storage\"}]}',\n",
       " '\"boardgameartist\"': '[{\"name\" \"Matt Allsopp\"',\n",
       " '{\"name\"': '\"Star Wars  Rebellion \\\\u2013 Zen Bins Storage\"',\n",
       " '\"boardgamepublisher\"': '[{\"name\" \"Fantasy Flight Games\"',\n",
       " '\"boardgamehonor\"': '[{\"name\" \"2016 Best Science Fiction or Fantasy Board Game Nominee\"',\n",
       " '\"boardgamecategory\"': '[{\"name\" \"Fighting\"',\n",
       " '\"boardgamemechanic\"': '[{\"name\" \"Area Majority \\\\/ Influence\"',\n",
       " '\"boardgameexpansion\"': '[{\"name\" \"Star Wars  Rebellion \\\\u2013 Rise of the Empire\"',\n",
       " '\"boardgameversion\"': '[{\"name\" \"Czech edition\"',\n",
       " '\"expandsboardgame\"': '[]',\n",
       " '\"boardgameintegration\"': '[]',\n",
       " '\"contains\"': '[]',\n",
       " '\"containedin\"': '[]',\n",
       " '\"reimplementation\"': '[]',\n",
       " '\"reimplements\"': '[]',\n",
       " '\"boardgamefamily\"': '[{\"name\" \"Components  Miniatures\"',\n",
       " '\"videogamebg\"': '[{\"name\" \"Star Wars  Rebellion\"',\n",
       " '\"boardgamesubdomain\"': '[{\"name\" \"Strategy Games\"',\n",
       " '\"boardgameaccessory\"': '[{\"name\" \"Star Wars  Rebellion \\\\u2013 Foam Tray Set\"'}"
      ]
     },
     "execution_count": 312,
     "metadata": {},
     "output_type": "execute_result"
    }
   ],
   "source": [
    "test_d"
   ]
  },
  {
   "cell_type": "code",
   "execution_count": 300,
   "metadata": {},
   "outputs": [],
   "source": [
    "test_d2 = {}\n",
    "for i in n_test:\n",
    "    if len(i.split(':')) == 2:\n",
    "        test_d2[i.split(':')[0]] = i.split(':')[1]\n",
    "    elif len(i.split(':')) > 2:\n",
    "        test_d2[i.split(':')[0]] = ''.join(i.split(':')[1:])"
   ]
  },
  {
   "cell_type": "code",
   "execution_count": 147,
   "metadata": {},
   "outputs": [],
   "source": []
  },
  {
   "cell_type": "code",
   "execution_count": 148,
   "metadata": {},
   "outputs": [
    {
     "data": {
      "text/plain": [
       "'Star Wars: Rebellion'"
      ]
     },
     "execution_count": 148,
     "metadata": {},
     "output_type": "execute_result"
    }
   ],
   "source": [
    "title"
   ]
  },
  {
   "cell_type": "code",
   "execution_count": null,
   "metadata": {},
   "outputs": [],
   "source": [
    "page_n = 1\n",
    "books = []\n",
    "while True:\n",
    "    html_titles = requests.get(start_url+str(page_n)).text #get page 'i'\n",
    "    titles = BeautifulSoup(html_titles, 'lxml') #soupify\n",
    "    prod_list = titles.find_all('div',{\"class\":\"list_item\"}) #get list of titles\n",
    "    if not prod_list:\n",
    "        print('No more results: Exiting...') #check to see if results exits, other wise break\n",
    "        break\n",
    "    else:\n",
    "        print('Getting page:{}'.format(page_n))\n",
    "        \n",
    "        page_links = [prod_list[i].select('a')[1]['href'] for i in range(len(prod_list))] #list of links\n",
    "        for link in page_links: #iterate through links)\n",
    "            data = []\n",
    "            request = requests.get(base_url + link).text\n",
    "            soup = BeautifulSoup(request, 'lxml')            \n",
    "            data.append(link.split('/')[2]) #append job id\n",
    "            data.append(soup.find_all('h2',{'class':'title'})[0].text) #append title\n",
    "            data.append(soup.find_all('div',{'class':'product-description'})[0].text) #append description\n",
    "            spec = [i.text[:-1] for i in soup.find_all('dt')] #generate list of specs\n",
    "            res = [i.text for i in soup.find_all('dd')] #generate spec details\n",
    "            d = {i:j for i,j in zip(spec,res)}\n",
    "            for i in base_specs: #iterate through base_specs; if present add to data, else append 'Na'\n",
    "                if i in d.keys():\n",
    "                    data.append(d[i])\n",
    "                else:\n",
    "                    data.append('Na')\n",
    "            \n",
    "            books.append(data) #append book data to list of books       \n",
    "    page_n += 1 #go to next page"
   ]
  },
  {
   "cell_type": "code",
   "execution_count": 93,
   "metadata": {},
   "outputs": [],
   "source": [
    "text = '{\"item\":{\"itemdata\":[{\"datatype\":\"geekitem_fielddata\",\"fieldname\":\"name\",\"title\":\"Primary Name\",\"primaryname\":true,\"required\":true,\"unclickable\":true,\"fullcredits\":true,\"subtype\":\"boardgame\",\"keyname\":\"name\"},{\"datatype\":\"geekitem_fielddata\",\"fieldname\":\"alternatename\",\"title\":\"Alternate Names\",\"alternate\":true,\"unclickable\":true,\"fullcredits\":true,\"subtype\":\"boardgame\",\"keyname\":\"alternatename\"},{\"datatype\":\"geekitem_fielddata\",\"fieldname\":\"yearpublished\",\"title\":\"Year Published\",\"fullcredits\":true,\"subtype\":\"boardgame\",\"keyname\":\"yearpublished\"},{\"datatype\":\"geekitem_fielddata\",\"fieldname\":\"minplayers\",\"title\":\"Minimum Players\",\"subtype\":\"boardgame\",\"keyname\":\"minplayers\"},{\"datatype\":\"geekitem_fielddata\",\"fieldname\":\"maxplayers\",\"title\":\"Maximum Players\",\"subtype\":\"boardgame\",\"keyname\":\"maxplayers\"},{\"datatype\":\"geekitem_fielddata\",\"fieldname\":\"minplaytime\",\"title\":\"Minimum Playing Time\",\"createposttext\":\" minutes\",\"posttext\":\" minutes\",\"subtype\":\"boardgame\",\"keyname\":\"minplaytime\"},{\"datatype\":\"geekitem_fielddata\",\"fieldname\":\"maxplaytime\",\"title\":\"Maximum Playing Time\",\"createposttext\":\" minutes\",\"posttext\":\" minutes\",\"subtype\":\"boardgame\",\"keyname\":\"maxplaytime\"},{\"datatype\":\"geekitem_fielddata\",\"fieldname\":\"minage\",\"title\":\"Mfg Suggested Ages\",\"createtitle\":\"Minimum Age\",\"posttext\":\" and up\",\"subtype\":\"boardgame\",\"keyname\":\"minage\"},{\"datatype\":\"geekitem_fielddata\",\"fieldname\":\"override_rankable\",\"title\":\"Override Rankable\",\"table\":\"geekitem_items\",\"options\":[{\"value\":1,\"title\":\"yes\"},{\"value\":0,\"title\":\"no\"}],\"adminonly\":true,\"subtype\":\"boardgame\",\"keyname\":\"override_rankable\"},{\"datatype\":\"geekitem_fielddata\",\"fieldname\":\"targetco_url\",\"unclickable\":true,\"title\":\"Target Co Order Link\",\"subtype\":\"boardgame\",\"keyname\":\"targetco_url\"},{\"datatype\":\"geekitem_fielddata\",\"fieldname\":\"walmart_id\",\"unclickable\":true,\"title\":\"Walmart Item Id\",\"nullable\":true,\"subtype\":\"boardgame\",\"keyname\":\"walmart_id\"},{\"datatype\":\"geekitem_fielddata\",\"fieldname\":\"instructional_videoid\",\"unclickable\":true,\"title\":\"Promoted Instructional Video ID\",\"validatemethod\":\"ValidateVideoid\",\"nullable\":true,\"subtype\":\"boardgame\",\"keyname\":\"instructional_videoid\"},{\"datatype\":\"geekitem_fielddata\",\"fieldname\":\"summary_videoid\",\"unclickable\":true,\"title\":\"Promoted Summary Video ID\",\"validatemethod\":\"ValidateVideoid\",\"nullable\":true,\"subtype\":\"boardgame\",\"keyname\":\"summary_videoid\"},{\"datatype\":\"geekitem_fielddata\",\"fieldname\":\"playthrough_videoid\",\"unclickable\":true,\"title\":\"Promoted Playthrough Video ID\",\"validatemethod\":\"ValidateVideoid\",\"nullable\":true,\"subtype\":\"boardgame\",\"keyname\":\"playthrough_videoid\"},{\"datatype\":\"geekitem_fielddata\",\"fieldname\":\"focus_videoid\",\"unclickable\":true,\"title\":\"Promoted In Focus Video ID\",\"validatemethod\":\"ValidateVideoid\",\"nullable\":true,\"subtype\":\"boardgame\",\"keyname\":\"focus_videoid\"},{\"datatype\":\"geekitem_fielddata\",\"fieldname\":\"bggstore_product\",\"unclickable\":true,\"title\":\"Promoted BGG Store Product Name\",\"nullable\":true,\"subtype\":\"boardgame\",\"keyname\":\"bggstore_product\"},{\"datatype\":\"geekitem_linkdata\",\"other_objecttype\":\"person\",\"other_subtype\":\"boardgamedesigner\",\"linktype\":\"boardgamedesigner\",\"self_prefix\":\"src\",\"title\":\"Designer\",\"titlepl\":\"Designers\",\"fullcredits\":true,\"keyname\":\"boardgamedesigner\"},{\"datatype\":\"geekitem_linkdata\",\"other_objecttype\":\"person\",\"other_subtype\":\"boardgameartist\",\"linktype\":\"boardgameartist\",\"self_prefix\":\"src\",\"title\":\"Artist\",\"titlepl\":\"Artists\",\"fullcredits\":true,\"keyname\":\"boardgameartist\"},{\"datatype\":\"geekitem_linkdata\",\"other_objecttype\":\"company\",\"other_subtype\":\"boardgamepublisher\",\"linktype\":\"boardgamepublisher\",\"self_prefix\":\"src\",\"title\":\"Publisher\",\"titlepl\":\"Publishers\",\"required\":true,\"fullcredits\":true,\"keyname\":\"boardgamepublisher\"},{\"datatype\":\"geekitem_linkdata\",\"other_objecttype\":\"family\",\"other_subtype\":\"boardgamehonor\",\"lookup_subtype\":\"boardgamehonor\",\"linktype\":\"boardgamehonor\",\"self_prefix\":\"src\",\"title\":\"Honors\",\"keyname\":\"boardgamehonor\"},{\"datatype\":\"geekitem_linkdata\",\"other_objecttype\":\"property\",\"other_subtype\":\"boardgamecategory\",\"lookup_subtype\":\"boardgamecategory\",\"linktype\":\"boardgamecategory\",\"self_prefix\":\"src\",\"title\":\"Category\",\"titlepl\":\"Categories\",\"showall_ctrl\":true,\"fullcredits\":true,\"keyname\":\"boardgamecategory\"},{\"datatype\":\"geekitem_linkdata\",\"other_objecttype\":\"property\",\"other_subtype\":\"boardgamemechanic\",\"lookup_subtype\":\"boardgamemechanic\",\"linktype\":\"boardgamemechanic\",\"self_prefix\":\"src\",\"title\":\"Mechanism\",\"titlepl\":\"Mechanisms\",\"showall_ctrl\":true,\"fullcredits\":true,\"keyname\":\"boardgamemechanic\"},{\"datatype\":\"geekitem_linkdata\",\"lookup_subtype\":\"boardgame\",\"other_objecttype\":\"thing\",\"other_subtype\":\"boardgameexpansion\",\"linktype\":\"boardgameexpansion\",\"self_prefix\":\"src\",\"title\":\"Expansion\",\"keyname\":\"boardgameexpansion\"},{\"datatype\":\"geekitem_linkdata\",\"other_objecttype\":\"version\",\"other_subtype\":\"boardgameversion\",\"linktype\":\"boardgameversion\",\"loadlinks\":true,\"self_prefix\":\"src\",\"title\":\"Version\",\"uneditable\":true,\"keyname\":\"boardgameversion\"},{\"datatype\":\"geekitem_linkdata\",\"other_objecttype\":\"thing\",\"other_subtype\":\"boardgame\",\"lookup_subtype\":\"boardgame\",\"linktype\":\"boardgameexpansion\",\"self_prefix\":\"dst\",\"title\":\"Expands\",\"keyname\":\"expandsboardgame\"},{\"datatype\":\"geekitem_linkdata\",\"other_objecttype\":\"thing\",\"other_subtype\":\"boardgame\",\"lookup_subtype\":\"boardgame\",\"linktype\":\"boardgameintegration\",\"correctioncomment\":\"Only for stand-alone games that integrate with other stand-alone games. <b>NOT<\\\\/b> for expansions.\",\"self_prefix\":\"src\",\"title\":\"Integrates With\",\"keyname\":\"boardgameintegration\"},{\"datatype\":\"geekitem_linkdata\",\"other_objecttype\":\"thing\",\"other_subtype\":\"boardgame\",\"lookup_subtype\":\"boardgame\",\"linktype\":\"boardgamecompilation\",\"self_prefix\":\"dst\",\"correctioncomment\":\"Items contained in this item (if this is a compilation, for example)\",\"title\":\"Contains\",\"keyname\":\"contains\"},{\"datatype\":\"geekitem_linkdata\",\"lookup_subtype\":\"boardgame\",\"other_objecttype\":\"thing\",\"other_subtype\":\"boardgame\",\"linktype\":\"boardgamecompilation\",\"self_prefix\":\"src\",\"title\":\"Contained in\",\"keyname\":\"containedin\"},{\"datatype\":\"geekitem_linkdata\",\"lookup_subtype\":\"boardgame\",\"other_objecttype\":\"thing\",\"other_subtype\":\"boardgame\",\"linktype\":\"boardgameimplementation\",\"self_prefix\":\"src\",\"correctioncomment\":\"Add the \\\\\"child\\\\\" item(s) that reimplement this game\",\"title\":\"Reimplemented By\",\"keyname\":\"reimplementation\"},{\"datatype\":\"geekitem_linkdata\",\"other_objecttype\":\"thing\",\"other_subtype\":\"boardgame\",\"lookup_subtype\":\"boardgame\",\"linktype\":\"boardgameimplementation\",\"self_prefix\":\"dst\",\"correctioncomment\":\"Add the \\\\\"parent\\\\\" item(s) for this game, if it reimplements a previous game\",\"title\":\"Reimplements\",\"keyname\":\"reimplements\"},{\"datatype\":\"geekitem_linkdata\",\"other_objecttype\":\"family\",\"other_subtype\":\"boardgamefamily\",\"lookup_subtype\":\"boardgamefamily\",\"linktype\":\"boardgamefamily\",\"self_prefix\":\"src\",\"fullcredits\":true,\"title\":\"Family\",\"keyname\":\"boardgamefamily\"},{\"datatype\":\"geekitem_linkdata\",\"other_objecttype\":\"thing\",\"other_subtype\":\"videogamebg\",\"lookup_subtype\":\"videogame\",\"linktype\":\"videogamebg\",\"self_prefix\":\"src\",\"adminonly\":true,\"title\":\"Video Game Adaptation\",\"titlepl\":\"Video Game Adaptations\",\"keyname\":\"videogamebg\"},{\"datatype\":\"geekitem_linkdata\",\"other_objecttype\":\"family\",\"other_subtype\":\"boardgamesubdomain\",\"lookup_subtype\":\"boardgamesubdomain\",\"linktype\":\"boardgamesubdomain\",\"self_prefix\":\"src\",\"title\":\"Subdomain\",\"showall_ctrl\":true,\"uneditable\":true,\"createposttext\":\"Enter the subdomain for this item.\",\"keyname\":\"boardgamesubdomain\"},{\"datatype\":\"geekitem_linkdata\",\"other_objecttype\":\"thing\",\"other_subtype\":\"boardgameaccessory\",\"lookup_subtype\":\"boardgameaccessory\",\"linktype\":\"boardgameaccessory\",\"self_prefix\":\"src\",\"title\":\"Accessory\",\"titlepl\":\"Accessories\",\"addnew\":true,\"keyname\":\"boardgameaccessory\"},{\"datatype\":\"geekitem_polldata\",\"title\":\"User Suggested # of Players\",\"polltype\":\"numplayers\",\"keyname\":\"userplayers\"},{\"datatype\":\"geekitem_polldata\",\"title\":\"User Suggested Ages\",\"polltype\":\"playerage\",\"keyname\":\"playerage\"},{\"datatype\":\"geekitem_polldata\",\"title\":\"Language Dependence\",\"polltype\":\"languagedependence\",\"keyname\":\"languagedependence\"},{\"datatype\":\"geekitem_polldata\",\"title\":\"Subdomain\",\"polltype\":\"boardgamesubdomain\",\"keyname\":\"subdomain\"},{\"datatype\":\"geekitem_polldata\",\"title\":\"Weight\",\"polltype\":\"boardgameweight\",\"keyname\":\"boardgameweight\"}],\"relatedlinktypes\":[\"boardgameaccessory\",\"contains\",\"containedin\",\"reimplementation\",\"reimplements\",\"videogamebg\",\"boardgameintegration\"],\"linkedforum_types\":[{\"title\":\"Board Game Forums\",\"linkedforum_index\":\"boardgames\",\"linkdata_index\":\"expandsboardgame\",\"required_subtype\":null},{\"title\":\"Expansion Forums\",\"linkedforum_index\":\"boardgameexpansions\",\"linkdata_index\":\"boardgameexpansion\",\"required_subtype\":null},{\"title\":\"Compilation Item Forums\",\"linkedforum_index\":\"compilationitems\",\"linkdata_index\":\"contains\",\"required_subtype\":\"boardgamecompilation\"},{\"title\":\"Parent Item Forums\",\"linkedforum_index\":\"reimplements\",\"linkdata_index\":\"reimplements\",\"required_subtype\":\"boardgameimplementation\"},{\"title\":\"Reimplementation Forums\",\"linkedforum_index\":\"reimplementedby\",\"linkdata_index\":\"reimplementation\",\"required_subtype\":null},{\"title\":\"Integrates With\",\"linkedforum_index\":\"boardgameintegration\",\"linkdata_index\":\"boardgameintegration\",\"required_subtype\":\"boardgameintegration\"},{\"title\":\"Video Game Forums\",\"linkedforum_index\":\"videogamebgs\",\"linkdata_index\":\"videogamebg\",\"required_subtype\":null}],\"subtypename\":\"Board Game\",\"rankinfo\":[{\"prettyname\":\"Board Game Rank\",\"shortprettyname\":\"Overall Rank\",\"veryshortprettyname\":\"Overall\",\"subdomain\":null,\"rankobjecttype\":\"subtype\",\"rankobjectid\":1,\"rank\":\"1\",\"baverage\":\"8.58426\"},{\"prettyname\":\"Thematic Rank\",\"shortprettyname\":\"Thematic Rank\",\"veryshortprettyname\":\"Thematic\",\"subdomain\":\"thematic\",\"rankobjecttype\":\"family\",\"rankobjectid\":5496,\"rank\":\"1\",\"baverage\":\"8.58878\"},{\"prettyname\":\"Strategy Game Rank\",\"shortprettyname\":\"Strategy Rank\",\"veryshortprettyname\":\"Strategy \",\"subdomain\":\"strategygames\",\"rankobjecttype\":\"family\",\"rankobjectid\":5497,\"rank\":\"1\",\"baverage\":\"8.56365\"}],\"polls\":{\"userplayers\":{\"best\":[{\"min\":3,\"max\":3}],\"recommended\":[{\"min\":1,\"max\":4}],\"totalvotes\":\"824\"},\"playerage\":\"14+\",\"languagedependence\":\"Extensive use of text - massive conversion needed to be playable\",\"subdomain\":\"\",\"boardgameweight\":{\"averageweight\":3.8073676132003071,\"votes\":\"1303\"}},\"stats\":{\"usersrated\":\"31004\",\"average\":\"8.85259\",\"baverage\":\"8.58426\",\"stddev\":\"1.60083\",\"avgweight\":\"3.8074\",\"numweights\":\"1303\",\"numgeeklists\":\"3636\",\"numtrading\":\"311\",\"numwanting\":\"1362\",\"numwish\":\"13710\",\"numowned\":\"50469\",\"numprevowned\":\"1787\",\"numcomments\":\"5931\",\"numwishlistcomments\":\"1058\",\"numhasparts\":\"27\",\"numwantparts\":\"8\",\"views\":\"8908418\",\"playmonth\":\"2020-01\",\"numplays\":\"228337\",\"numplays_month\":\"1732\",\"numfans\":5633},\"relatedcounts\":{\"news\":7,\"blogs\":465,\"weblink\":31,\"podcast\":139},\"itemid\":1304840,\"objecttype\":\"thing\",\"objectid\":174430,\"label\":\"Board Game\",\"labelpl\":\"Board Games\",\"href\":\"\\\\/boardgame\\\\/174430\\\\/gloomhaven\",\"subtype\":\"boardgame\",\"subtypes\":[\"boardgame\",\"boardgameintegration\"],\"versioninfo\":{\"kickstarter_widget_url\":\"\",\"gamepageorderurl\":null,\"shopifyitem\":null},\"name\":\"Gloomhaven\",\"alternatename\":null,\"yearpublished\":\"2017\",\"minplayers\":\"1\",\"maxplayers\":\"4\",\"minplaytime\":\"60\",\"maxplaytime\":\"120\",\"minage\":\"12\",\"override_rankable\":0,\"targetco_url\":\"\",\"walmart_id\":\"291875780\",\"instructional_videoid\":null,\"summary_videoid\":\"102546\",\"playthrough_videoid\":null,\"focus_videoid\":null,\"bggstore_product\":\"gloomhaven-solo-scenarios\",\"links\":{\"boardgamedesigner\":[{\"name\":\"Isaac Childres\",\"objecttype\":\"person\",\"objectid\":\"69802\",\"primarylink\":0,\"itemstate\":\"approved\",\"href\":\"\\\\/boardgamedesigner\\\\/69802\\\\/isaac-childres\"}],\"boardgameartist\":[{\"name\":\"Alexandr Elichev\",\"objecttype\":\"person\",\"objectid\":\"77084\",\"primarylink\":0,\"itemstate\":\"approved\",\"href\":\"\\\\/boardgameartist\\\\/77084\\\\/alexandr-elichev\"},{\"name\":\"Josh T. McDowell\",\"objecttype\":\"person\",\"objectid\":\"78961\",\"primarylink\":0,\"itemstate\":\"approved\",\"href\":\"\\\\/boardgameartist\\\\/78961\\\\/josh-t-mcdowell\"},{\"name\":\"Alvaro Nebot\",\"objecttype\":\"person\",\"objectid\":\"84269\",\"primarylink\":0,\"itemstate\":\"approved\",\"href\":\"\\\\/boardgameartist\\\\/84269\\\\/alvaro-nebot\"}],\"boardgamepublisher\":[{\"name\":\"Cephalofair Games\",\"objecttype\":\"company\",\"objectid\":\"27425\",\"primarylink\":1,\"itemstate\":\"approved\",\"href\":\"\\\\/boardgamepublisher\\\\/27425\\\\/cephalofair-games\"},{\"name\":\"Albi\",\"objecttype\":\"company\",\"objectid\":\"4304\",\"primarylink\":0,\"itemstate\":\"approved\",\"href\":\"\\\\/boardgamepublisher\\\\/4304\\\\/albi\"},{\"name\":\"Asmodee\",\"objecttype\":\"company\",\"objectid\":\"157\",\"primarylink\":0,\"itemstate\":\"approved\",\"href\":\"\\\\/boardgamepublisher\\\\/157\\\\/asmodee\"},{\"name\":\"Feuerland Spiele\",\"objecttype\":\"company\",\"objectid\":\"22380\",\"primarylink\":0,\"itemstate\":\"approved\",\"href\":\"\\\\/boardgamepublisher\\\\/22380\\\\/feuerland-spiele\"},{\"name\":\"Games Warehouse\",\"objecttype\":\"company\",\"objectid\":\"40478\",\"primarylink\":0,\"itemstate\":\"approved\",\"href\":\"\\\\/boardgamepublisher\\\\/40478\\\\/games-warehouse\"},{\"name\":\"G\\\\u00e9m Klub Kft.\",\"objecttype\":\"company\",\"objectid\":\"8820\",\"primarylink\":0,\"itemstate\":\"approved\",\"href\":\"\\\\/boardgamepublisher\\\\/8820\\\\/gem-klub-kft\"}],\"boardgamehonor\":[{\"name\":\"2017 Best Science Fiction or Fantasy Board Game Nominee\",\"objecttype\":\"family\",\"objectid\":\"45000\",\"primarylink\":0,\"itemstate\":\"approved\",\"href\":\"\\\\/boardgamehonor\\\\/45000\\\\/2017-best-science-fiction-or-fantasy-board-game-no\"},{\"name\":\"2017 Cardboard Republic Striker Laurel Nominee\",\"objecttype\":\"family\",\"objectid\":\"46988\",\"primarylink\":0,\"itemstate\":\"approved\",\"href\":\"\\\\/boardgamehonor\\\\/46988\\\\/2017-cardboard-republic-striker-laurel-nominee\"},{\"name\":\"2017 Diana Jones Award for Excellence in Gaming Nominee\",\"objecttype\":\"family\",\"objectid\":\"42165\",\"primarylink\":0,\"itemstate\":\"approved\",\"href\":\"\\\\/boardgamehonor\\\\/42165\\\\/2017-diana-jones-award-excellence-gaming-nominee\"},{\"name\":\"2017 Golden Geek Best Board Game Artwork & Presentation Nominee\",\"objecttype\":\"family\",\"objectid\":\"47451\",\"primarylink\":0,\"itemstate\":\"approved\",\"href\":\"\\\\/boardgamehonor\\\\/47451\\\\/2017-golden-geek-best-board-game-artwork-presentat\"},{\"name\":\"2017 Golden Geek Best Cooperative Game Nominee\",\"objecttype\":\"family\",\"objectid\":\"47466\",\"primarylink\":0,\"itemstate\":\"approved\",\"href\":\"\\\\/boardgamehonor\\\\/47466\\\\/2017-golden-geek-best-cooperative-game-nominee\"},{\"name\":\"2017 Golden Geek Best Cooperative Game Winner\",\"objecttype\":\"family\",\"objectid\":\"47423\",\"primarylink\":0,\"itemstate\":\"approved\",\"href\":\"\\\\/boardgamehonor\\\\/47423\\\\/2017-golden-geek-best-cooperative-game-winner\"}],\"boardgamecategory\":[{\"name\":\"Adventure\",\"objecttype\":\"property\",\"objectid\":\"1022\",\"primarylink\":0,\"itemstate\":\"approved\",\"href\":\"\\\\/boardgamecategory\\\\/1022\\\\/adventure\"},{\"name\":\"Exploration\",\"objecttype\":\"property\",\"objectid\":\"1020\",\"primarylink\":0,\"itemstate\":\"approved\",\"href\":\"\\\\/boardgamecategory\\\\/1020\\\\/exploration\"},{\"name\":\"Fantasy\",\"objecttype\":\"property\",\"objectid\":\"1010\",\"primarylink\":0,\"itemstate\":\"approved\",\"href\":\"\\\\/boardgamecategory\\\\/1010\\\\/fantasy\"},{\"name\":\"Fighting\",\"objecttype\":\"property\",\"objectid\":\"1046\",\"primarylink\":0,\"itemstate\":\"approved\",\"href\":\"\\\\/boardgamecategory\\\\/1046\\\\/fighting\"},{\"name\":\"Miniatures\",\"objecttype\":\"property\",\"objectid\":\"1047\",\"primarylink\":0,\"itemstate\":\"approved\",\"href\":\"\\\\/boardgamecategory\\\\/1047\\\\/miniatures\"}],\"boardgamemechanic\":[{\"name\":\"Campaign \\\\/ Battle Card Driven\",\"objecttype\":\"property\",\"objectid\":\"2018\",\"primarylink\":0,\"itemstate\":\"approved\",\"href\":\"\\\\/boardgamemechanic\\\\/2018\\\\/campaign-battle-card-driven\"},{\"name\":\"Cooperative Game\",\"objecttype\":\"property\",\"objectid\":\"2023\",\"primarylink\":0,\"itemstate\":\"approved\",\"href\":\"\\\\/boardgamemechanic\\\\/2023\\\\/cooperative-game\"},{\"name\":\"Grid Movement\",\"objecttype\":\"property\",\"objectid\":\"2676\",\"primarylink\":0,\"itemstate\":\"approved\",\"href\":\"\\\\/boardgamemechanic\\\\/2676\\\\/grid-movement\"},{\"name\":\"Hand Management\",\"objecttype\":\"property\",\"objectid\":\"2040\",\"primarylink\":0,\"itemstate\":\"approved\",\"href\":\"\\\\/boardgamemechanic\\\\/2040\\\\/hand-management\"},{\"name\":\"Legacy Game\",\"objecttype\":\"property\",\"objectid\":\"2824\",\"primarylink\":0,\"itemstate\":\"approved\",\"href\":\"\\\\/boardgamemechanic\\\\/2824\\\\/legacy-game\"},{\"name\":\"Modular Board\",\"objecttype\":\"property\",\"objectid\":\"2011\",\"primarylink\":0,\"itemstate\":\"approved\",\"href\":\"\\\\/boardgamemechanic\\\\/2011\\\\/modular-board\"}],\"boardgameexpansion\":[{\"name\":\"Gloomhaven: Forgotten Circles\",\"objecttype\":\"thing\",\"objectid\":\"250337\",\"primarylink\":0,\"itemstate\":\"approved\",\"href\":\"\\\\/boardgame\\\\/250337\\\\/gloomhaven-forgotten-circles\"},{\"name\":\"Gloomhaven: Secrets of the Lost Cabal\",\"objecttype\":\"thing\",\"objectid\":\"297586\",\"primarylink\":0,\"itemstate\":\"approved\",\"href\":\"\\\\/boardgame\\\\/297586\\\\/gloomhaven-secrets-lost-cabal\"},{\"name\":\"Gloomhaven: Solo Scenarios\",\"objecttype\":\"thing\",\"objectid\":\"226868\",\"primarylink\":0,\"itemstate\":\"approved\",\"href\":\"\\\\/boardgame\\\\/226868\\\\/gloomhaven-solo-scenarios\"},{\"name\":\"Gloomhaven: The End of the World (Promo Scenario)\",\"objecttype\":\"thing\",\"objectid\":\"231934\",\"primarylink\":0,\"itemstate\":\"approved\",\"href\":\"\\\\/boardgame\\\\/231934\\\\/gloomhaven-end-world-promo-scenario\"}],\"boardgameversion\":[{\"name\":\"Chinese edition\",\"objecttype\":\"version\",\"objectid\":\"460243\",\"primarylink\":0,\"itemstate\":\"approved\",\"href\":\"\\\\/boardgameversion\\\\/460243\\\\/chinese-edition\"},{\"name\":\"Czech edition\",\"objecttype\":\"version\",\"objectid\":\"482203\",\"primarylink\":0,\"itemstate\":\"approved\",\"href\":\"\\\\/boardgameversion\\\\/482203\\\\/czech-edition\"},{\"name\":\"English edition second printing (with Solo Scenarios)\",\"objecttype\":\"version\",\"objectid\":\"384592\",\"primarylink\":0,\"itemstate\":\"approved\",\"href\":\"\\\\/boardgameversion\\\\/384592\\\\/english-edition-second-printing-solo-scenarios\"},{\"name\":\"English edition, fifth printing\",\"objecttype\":\"version\",\"objectid\":\"479734\",\"primarylink\":0,\"itemstate\":\"approved\",\"href\":\"\\\\/boardgameversion\\\\/479734\\\\/english-edition-fifth-printing\"},{\"name\":\"English edition, first printing\",\"objecttype\":\"version\",\"objectid\":\"331120\",\"primarylink\":0,\"itemstate\":\"approved\",\"href\":\"\\\\/boardgameversion\\\\/331120\\\\/english-edition-first-printing\"},{\"name\":\"English edition, fourth printing\",\"objecttype\":\"version\",\"objectid\":\"451774\",\"primarylink\":0,\"itemstate\":\"approved\",\"href\":\"\\\\/boardgameversion\\\\/451774\\\\/english-edition-fourth-printing\"}],\"expandsboardgame\":[],\"boardgameintegration\":[{\"name\":\"Gloomhaven: Jaws of the Lion\",\"objecttype\":\"thing\",\"objectid\":\"291457\",\"primarylink\":0,\"itemstate\":\"approved\",\"href\":\"\\\\/boardgame\\\\/291457\\\\/gloomhaven-jaws-lion\"}],\"contains\":[],\"containedin\":[],\"reimplementation\":[],\"reimplements\":[],\"boardgamefamily\":[{\"name\":\"Campaign Games\",\"objecttype\":\"family\",\"objectid\":\"24281\",\"primarylink\":0,\"itemstate\":\"approved\",\"href\":\"\\\\/boardgamefamily\\\\/24281\\\\/campaign-games\"},{\"name\":\"Components: Miniatures\",\"objecttype\":\"family\",\"objectid\":\"25158\",\"primarylink\":0,\"itemstate\":\"approved\",\"href\":\"\\\\/boardgamefamily\\\\/25158\\\\/components-miniatures\"},{\"name\":\"Crowdfunding: Kickstarter\",\"objecttype\":\"family\",\"objectid\":\"8374\",\"primarylink\":0,\"itemstate\":\"approved\",\"href\":\"\\\\/boardgamefamily\\\\/8374\\\\/crowdfunding-kickstarter\"},{\"name\":\"Dungeon Crawler\",\"objecttype\":\"family\",\"objectid\":\"59218\",\"primarylink\":0,\"itemstate\":\"approved\",\"href\":\"\\\\/boardgamefamily\\\\/59218\\\\/dungeon-crawler\"},{\"name\":\"Gloomhaven Universe\",\"objecttype\":\"family\",\"objectid\":\"45610\",\"primarylink\":0,\"itemstate\":\"approved\",\"href\":\"\\\\/boardgamefamily\\\\/45610\\\\/gloomhaven-universe\"},{\"name\":\"Legacy\",\"objecttype\":\"family\",\"objectid\":\"25404\",\"primarylink\":0,\"itemstate\":\"approved\",\"href\":\"\\\\/boardgamefamily\\\\/25404\\\\/legacy\"}],\"videogamebg\":[{\"name\":\"Gloomhaven\",\"objecttype\":\"thing\",\"objectid\":\"261209\",\"primarylink\":0,\"itemstate\":\"approved\",\"href\":\"\\\\/videogame\\\\/261209\\\\/gloomhaven\"}],\"boardgamesubdomain\":[{\"name\":\"Strategy Games\",\"objecttype\":\"family\",\"objectid\":\"5497\",\"primarylink\":0,\"itemstate\":\"approved\",\"href\":\"\\\\/boardgamesubdomain\\\\/5497\\\\/strategy-games\"},{\"name\":\"Thematic Games\",\"objecttype\":\"family\",\"objectid\":\"5496\",\"primarylink\":0,\"itemstate\":\"approved\",\"href\":\"\\\\/boardgamesubdomain\\\\/5496\\\\/thematic-games\"}],\"boardgameaccessory\":[{\"name\":\"Gloomhaven (second edition): Tower Rex Organizer\",\"objecttype\":\"thing\",\"objectid\":\"267166\",\"primarylink\":0,\"itemstate\":\"approved\",\"href\":\"\\\\/boardgameaccessory\\\\/267166\\\\/gloomhaven-second-edition-tower-rex-organizer\"},{\"name\":\"Gloomhaven: Adventure Tokens \\\\u2013 Altar\",\"objecttype\":\"thing\",\"objectid\":\"289347\",\"primarylink\":0,\"itemstate\":\"approved\",\"href\":\"\\\\/boardgameaccessory\\\\/289347\\\\/gloomhaven-adventure-tokens-altar\"},{\"name\":\"Gloomhaven: Adventure Tokens \\\\u2013 Bear Trap\",\"objecttype\":\"thing\",\"objectid\":\"289346\",\"primarylink\":0,\"itemstate\":\"approved\",\"href\":\"\\\\/boardgameaccessory\\\\/289346\\\\/gloomhaven-adventure-tokens-bear-trap\"},{\"name\":\"Gloomhaven: Adventure Tokens \\\\u2013 Bookcase\",\"objecttype\":\"thing\",\"objectid\":\"289348\",\"primarylink\":0,\"itemstate\":\"approved\",\"href\":\"\\\\/boardgameaccessory\\\\/289348\\\\/gloomhaven-adventure-tokens-bookcase\"},{\"name\":\"Gloomhaven: Adventure Tokens \\\\u2013 Boulder\",\"objecttype\":\"thing\",\"objectid\":\"289343\",\"primarylink\":0,\"itemstate\":\"approved\",\"href\":\"\\\\/boardgameaccessory\\\\/289343\\\\/gloomhaven-adventure-tokens-boulder\"},{\"name\":\"Gloomhaven: Adventure Tokens \\\\u2013 Cabinet\",\"objecttype\":\"thing\",\"objectid\":\"288415\",\"primarylink\":0,\"itemstate\":\"approved\",\"href\":\"\\\\/boardgameaccessory\\\\/288415\\\\/gloomhaven-adventure-tokens-cabinet\"}]},\"linkcounts\":{\"boardgamedesigner\":1,\"boardgameartist\":3,\"boardgamepublisher\":9,\"boardgamehonor\":23,\"boardgamecategory\":5,\"boardgamemechanic\":12,\"boardgameexpansion\":4,\"boardgameversion\":19,\"expandsboardgame\":0,\"boardgameintegration\":1,\"contains\":0,\"containedin\":0,\"reimplementation\":0,\"reimplements\":0,\"boardgamefamily\":7,\"videogamebg\":1,\"boardgamesubdomain\":2,\"boardgameaccessory\":35},\"secondarynamescount\":0,\"alternatenamescount\":4,\"primaryname\":{\"nameid\":\"972618\",\"name\":\"Gloomhaven\",\"sortindex\":\"1\",\"primaryname\":\"1\",\"translit\":\"Gloomhaven\"}'"
   ]
  }
 ],
 "metadata": {
  "kernelspec": {
   "display_name": "Python 3",
   "language": "python",
   "name": "python3"
  },
  "language_info": {
   "codemirror_mode": {
    "name": "ipython",
    "version": 3
   },
   "file_extension": ".py",
   "mimetype": "text/x-python",
   "name": "python",
   "nbconvert_exporter": "python",
   "pygments_lexer": "ipython3",
   "version": "3.6.9"
  }
 },
 "nbformat": 4,
 "nbformat_minor": 2
}
