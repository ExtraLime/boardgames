{
 "cells": [
  {
   "cell_type": "code",
   "execution_count": 1,
   "metadata": {},
   "outputs": [],
   "source": [
    "import numpy as np\n",
    "import pandas as pd\n",
    "import re"
   ]
  },
  {
   "cell_type": "code",
   "execution_count": 2,
   "metadata": {},
   "outputs": [],
   "source": [
    "data = pd.read_csv('boardgames-raw.csv')\n",
    "data.drop(['Unnamed: 0'],axis=1, inplace=True)"
   ]
  },
  {
   "cell_type": "code",
   "execution_count": 3,
   "metadata": {},
   "outputs": [],
   "source": [
    "#clean up community voted minimum players column\n",
    "data['min_community'] = [i.replace('[{min ','') for i in data.min_community]\n",
    "data['min_community'] = [data.minplayers[i] if data.min_community[i] == '[]'\\\n",
    "                         else data.min_community[i] for i in range(len(data.min_community))]\n",
    "data['max_community'] = [i.replace('}]','') if type(i) != float else 'null' for i in data.max_community]\n",
    "data['max_community'] = [data.max_community[i] if data.max_community[i] != 'null'\\\n",
    "                         else data.maxplayers[i] for i in range(len(data.max_community))]\n",
    "#clean podcast column\n",
    "data['podcast'] = [i.replace(\"}\",'') for i in data.podcast]"
   ]
  },
  {
   "cell_type": "code",
   "execution_count": 4,
   "metadata": {},
   "outputs": [],
   "source": [
    "data['totalvotes'] = [i.replace('}','') for i in data.totalvotes]\n",
    "data['playerage'] = [i.replace('+','') for i in data.playerage]"
   ]
  },
  {
   "cell_type": "code",
   "execution_count": 5,
   "metadata": {},
   "outputs": [],
   "source": [
    "#correct honor column\n",
    "data['boardgamehonor'] = [data.boardgamehonor[i] if data.boardgamehonor[i] != data.boardgamepublisher[i] else 'None'\\\n",
    "                         for i in range(data.shape[0])]\n",
    "#fix ranks\n",
    "data['sortindex'] = [i+1 for i in range(data.shape[0])]"
   ]
  },
  {
   "cell_type": "code",
   "execution_count": 6,
   "metadata": {},
   "outputs": [],
   "source": [
    "#convert language dependence to cardinal value\n",
    "lang_d = {'(no votes)':0,\n",
    " 'Extensive use of text - massive conversion needed to be playable':4,\n",
    " 'Moderate in-game text - needs crib sheet or paste ups':3,\n",
    " 'No necessary in-game text':1,\n",
    " 'Some necessary text - easily memorized or small crib sheet':2,\n",
    " 'Unplayable in another language':5}\n",
    "\n",
    "data['languagedependence'] = [lang_d[i] for i in data.languagedependence]\n"
   ]
  },
  {
   "cell_type": "code",
   "execution_count": null,
   "metadata": {},
   "outputs": [],
   "source": [
    "import time\n",
    "start = time.time()\n",
    "#credit columns into proper lists\n",
    "#this takes a while, the names that use diacritics lose encoding\n",
    "for col in data.iloc[:,42:47]:\n",
    "    for row in range(len(data[col])):\n",
    "        data[col][row] = data[col][row].replace('\"','').replace(']','')\\\n",
    "                        .replace('[','').replace(\"'\",'').replace('\\\\','').split(', ')\n",
    "end = time.time()\n"
   ]
  },
  {
   "cell_type": "code",
   "execution_count": 10,
   "metadata": {
    "scrolled": true
   },
   "outputs": [
    {
     "data": {
      "text/plain": [
       "'Time =47.75227936903636 Minutes'"
      ]
     },
     "execution_count": 10,
     "metadata": {},
     "output_type": "execute_result"
    }
   ],
   "source": [
    "'Time =' +str((end-start)/60)+' Minutes'"
   ]
  },
  {
   "cell_type": "code",
   "execution_count": 2,
   "metadata": {},
   "outputs": [],
   "source": [
    "data = pd.read_csv('boardgames0.csv')"
   ]
  },
  {
   "cell_type": "code",
   "execution_count": 3,
   "metadata": {},
   "outputs": [],
   "source": [
    "data.to_csv('boardgames0.csv',index=False)"
   ]
  },
  {
   "cell_type": "code",
   "execution_count": null,
   "metadata": {},
   "outputs": [],
   "source": []
  }
 ],
 "metadata": {
  "kernelspec": {
   "display_name": "Python 3",
   "language": "python",
   "name": "python3"
  },
  "language_info": {
   "codemirror_mode": {
    "name": "ipython",
    "version": 3
   },
   "file_extension": ".py",
   "mimetype": "text/x-python",
   "name": "python",
   "nbconvert_exporter": "python",
   "pygments_lexer": "ipython3",
   "version": "3.6.9"
  }
 },
 "nbformat": 4,
 "nbformat_minor": 2
}
